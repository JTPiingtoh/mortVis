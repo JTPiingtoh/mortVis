{
 "cells": [
  {
   "cell_type": "code",
   "execution_count": 1,
   "metadata": {},
   "outputs": [],
   "source": [
    "from sqlalchemy import Table, Row, Column, create_engine, MetaData, Integer, String, ForeignKey, Date\n",
    "from sqlalchemy.orm import DeclarativeBase\n",
    "import openpyxl\n",
    "import numpy as np"
   ]
  },
  {
   "cell_type": "code",
   "execution_count": 2,
   "metadata": {},
   "outputs": [],
   "source": [
    "import os\n",
    "engine = create_engine(\"sqlite:///mortality.db\", echo=True, pool_pre_ping=True)\n",
    "\n",
    "assert os.path.isfile(\"G:/Mortality_rate_vis/mortality.db\")\n",
    "\n",
    "class Base(DeclarativeBase):\n",
    "    pass"
   ]
  },
  {
   "cell_type": "code",
   "execution_count": 3,
   "metadata": {},
   "outputs": [
    {
     "data": {
      "text/plain": [
       "Engine(sqlite:///mortality.db)"
      ]
     },
     "execution_count": 3,
     "metadata": {},
     "output_type": "execute_result"
    }
   ],
   "source": [
    "engine"
   ]
  },
  {
   "cell_type": "code",
   "execution_count": 4,
   "metadata": {},
   "outputs": [],
   "source": [
    "from typing import List\n",
    "from typing import Optional\n",
    "from sqlalchemy.orm import Mapped\n",
    "from sqlalchemy.orm import mapped_column\n",
    "from sqlalchemy.orm import relationship"
   ]
  },
  {
   "cell_type": "code",
   "execution_count": 5,
   "metadata": {},
   "outputs": [],
   "source": [
    "class Country(Base):\n",
    "    __tablename__ = \"countrys\"\n",
    "\n",
    "    id: Mapped[int] = mapped_column(primary_key=True)\n",
    "    name: Mapped[str] = mapped_column(String(255))\n",
    "    code: Mapped[str] = mapped_column(String(255))\n",
    "\n",
    "    def __repr__(self) -> str:\n",
    "        return f\"Country(id={self.id!r}, name={self.name!r}, code={self.code!r})\"\n",
    "    \n",
    "\n",
    "class Deaths(Base):\n",
    "    __tablename__ = \"deaths\"\n",
    "\n",
    "    id: Mapped[int] = mapped_column(primary_key=True)\n",
    "    country_id: Mapped[int] = mapped_column(ForeignKey(\"countrys.id\"))\n",
    "    year: Mapped[Date] = mapped_column(Date)\n",
    "    age_group: Mapped[str] = mapped_column(String(255))\n",
    "    sex: Mapped[str] = mapped_column(String(255))\n",
    "    number_of_deaths: Mapped[int] = mapped_column()\n",
    "    death_rate_per_100000: Mapped[int] = mapped_column()\n",
    "\n",
    "    def __repr__(self):\n",
    "        return f\"Deaths(id={self.id!r}, country_id={self.country_id!r}, year={self.year!r}, age_group={self.age_group!r}, sex={self.sex!r}, deaths_per_100k={self.deaths_per_100k!r})\"\n",
    "\n"
   ]
  },
  {
   "cell_type": "code",
   "execution_count": 6,
   "metadata": {},
   "outputs": [
    {
     "data": {
      "text/plain": [
       "MetaData()"
      ]
     },
     "execution_count": 6,
     "metadata": {},
     "output_type": "execute_result"
    }
   ],
   "source": [
    "Base.metadata"
   ]
  },
  {
   "cell_type": "code",
   "execution_count": 7,
   "metadata": {},
   "outputs": [
    {
     "data": {
      "text/plain": [
       "<sqlalchemy.orm.decl_api.registry at 0x1582de71a10>"
      ]
     },
     "execution_count": 7,
     "metadata": {},
     "output_type": "execute_result"
    }
   ],
   "source": [
    "Base.registry"
   ]
  },
  {
   "cell_type": "code",
   "execution_count": 8,
   "metadata": {},
   "outputs": [
    {
     "name": "stdout",
     "output_type": "stream",
     "text": [
      "2025-04-02 17:17:27,995 INFO sqlalchemy.engine.Engine BEGIN (implicit)\n",
      "2025-04-02 17:17:27,996 INFO sqlalchemy.engine.Engine PRAGMA main.table_info(\"countrys\")\n",
      "2025-04-02 17:17:27,997 INFO sqlalchemy.engine.Engine [raw sql] ()\n",
      "2025-04-02 17:17:27,998 INFO sqlalchemy.engine.Engine PRAGMA main.table_info(\"deaths\")\n",
      "2025-04-02 17:17:28,000 INFO sqlalchemy.engine.Engine [raw sql] ()\n",
      "2025-04-02 17:17:28,001 INFO sqlalchemy.engine.Engine PRAGMA temp.table_info(\"deaths\")\n",
      "2025-04-02 17:17:28,001 INFO sqlalchemy.engine.Engine [raw sql] ()\n",
      "2025-04-02 17:17:28,003 INFO sqlalchemy.engine.Engine \n",
      "CREATE TABLE deaths (\n",
      "\tid INTEGER NOT NULL, \n",
      "\tcountry_id INTEGER NOT NULL, \n",
      "\tyear DATE NOT NULL, \n",
      "\tage_group VARCHAR(255) NOT NULL, \n",
      "\tsex VARCHAR(255) NOT NULL, \n",
      "\tnumber_of_deaths INTEGER NOT NULL, \n",
      "\tdeath_rate_per_100000 INTEGER NOT NULL, \n",
      "\tPRIMARY KEY (id), \n",
      "\tFOREIGN KEY(country_id) REFERENCES countrys (id)\n",
      ")\n",
      "\n",
      "\n",
      "2025-04-02 17:17:28,004 INFO sqlalchemy.engine.Engine [no key 0.00056s] ()\n",
      "2025-04-02 17:17:28,082 INFO sqlalchemy.engine.Engine COMMIT\n"
     ]
    }
   ],
   "source": [
    "Base.metadata.create_all(engine)"
   ]
  },
  {
   "cell_type": "code",
   "execution_count": 16,
   "metadata": {},
   "outputs": [
    {
     "name": "stdout",
     "output_type": "stream",
     "text": [
      "                     name code\n",
      "0             Afghanistan  AFG\n",
      "1                  Angola  AGO\n",
      "2                 Albania  ALB\n",
      "3                 Andorra  AND\n",
      "4    United Arab Emirates  ARE\n",
      "..                    ...  ...\n",
      "182                 Samoa  WSM\n",
      "183                 Yemen  YEM\n",
      "184          South Africa  ZAF\n",
      "185                Zambia  ZMB\n",
      "186              Zimbabwe  ZWE\n",
      "\n",
      "[187 rows x 2 columns]\n"
     ]
    }
   ],
   "source": [
    "import pandas as pd\n",
    "\n",
    "filename = \"IHME_GBD_2010_MORTALITY_AGE_SPECIFIC_BY_COUNTRY_1970_2010.csv\"\n",
    "\n",
    "df = pd.read_csv(filename).rename(columns={\n",
    "    \"Country Code\" : \"code\",\n",
    "    \"Country Name\" : \"name\",\n",
    "    \"Year\": \"year\",\n",
    "    \"Age Group\" : \"age_group\",\n",
    "    \"Sex\" : \"sex\",\n",
    "    \"Number of Deaths\" : \"number_of_deaths\",\n",
    "    \"Death Rate Per 100,000\" : \"death_rate_per_100000\"\n",
    "})\n",
    "\n",
    "countrys = pd.DataFrame(df[[\"name\", \"code\"]].drop_duplicates().reset_index(drop=True))\n",
    "\n",
    "\n",
    "print(countrys)"
   ]
  },
  {
   "cell_type": "code",
   "execution_count": 10,
   "metadata": {},
   "outputs": [],
   "source": [
    "# countrys.to_sql(name=\"countrys\", if_exists=\"append\", con=engine, index=True, index_label=\"id\")"
   ]
  },
  {
   "cell_type": "code",
   "execution_count": 11,
   "metadata": {},
   "outputs": [],
   "source": [
    "deaths = pd.DataFrame(df)"
   ]
  },
  {
   "cell_type": "code",
   "execution_count": 17,
   "metadata": {},
   "outputs": [
    {
     "name": "stdout",
     "output_type": "stream",
     "text": [
      "      code         name  year  age_group     sex number_of_deaths  \\\n",
      "0      AFG  Afghanistan  1970   0-6 days    Male           19,241   \n",
      "1      AFG  Afghanistan  1970   0-6 days  Female           12,600   \n",
      "2      AFG  Afghanistan  1970   0-6 days    Both           31,840   \n",
      "3      AFG  Afghanistan  1970  7-27 days    Male           15,939   \n",
      "4      AFG  Afghanistan  1970  7-27 days  Female           11,287   \n",
      "...    ...          ...   ...        ...     ...              ...   \n",
      "58900  ZWE     Zimbabwe  2010  80+ years  Female            7,606   \n",
      "58901  ZWE     Zimbabwe  2010  80+ years    Both           13,305   \n",
      "58902  ZWE     Zimbabwe  2010   All ages    Male           82,010   \n",
      "58903  ZWE     Zimbabwe  2010   All ages  Female           77,420   \n",
      "58904  ZWE     Zimbabwe  2010   All ages    Both          159,430   \n",
      "\n",
      "      death_rate_per_100000  \n",
      "0                318,292.90  \n",
      "1                219,544.20  \n",
      "2                270,200.70  \n",
      "3                 92,701.00  \n",
      "4                 68,594.50  \n",
      "...                     ...  \n",
      "58900             16,179.40  \n",
      "58901             16,633.80  \n",
      "58902              1,320.10  \n",
      "58903              1,211.20  \n",
      "58904              1,264.90  \n",
      "\n",
      "[58905 rows x 7 columns]\n"
     ]
    }
   ],
   "source": [
    "print(df)"
   ]
  },
  {
   "cell_type": "code",
   "execution_count": null,
   "metadata": {},
   "outputs": [],
   "source": [
    "from sqlalchemy.orm import Session\n",
    "\n",
    "with Session(engine) as session:\n",
    "\n",
    "    for row in "
   ]
  }
 ],
 "metadata": {
  "kernelspec": {
   "display_name": ".venv",
   "language": "python",
   "name": "python3"
  },
  "language_info": {
   "codemirror_mode": {
    "name": "ipython",
    "version": 3
   },
   "file_extension": ".py",
   "mimetype": "text/x-python",
   "name": "python",
   "nbconvert_exporter": "python",
   "pygments_lexer": "ipython3",
   "version": "3.11.3"
  }
 },
 "nbformat": 4,
 "nbformat_minor": 2
}
