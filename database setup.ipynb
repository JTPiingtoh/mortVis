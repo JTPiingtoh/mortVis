{
 "cells": [
  {
   "cell_type": "code",
   "execution_count": 2,
   "metadata": {},
   "outputs": [],
   "source": [
    "from sqlalchemy import Table, Row, Column, create_engine, MetaData, Integer, String, ForeignKey, Date, select\n",
    "from sqlalchemy.orm import DeclarativeBase\n",
    "import openpyxl\n",
    "import numpy as np"
   ]
  },
  {
   "cell_type": "code",
   "execution_count": 3,
   "metadata": {},
   "outputs": [],
   "source": [
    "import os\n",
    "engine = create_engine(\"sqlite:///mortality.db\", echo=True, pool_pre_ping=True)\n",
    "\n",
    "assert os.path.isfile(\"mortality.db\")\n",
    "\n",
    "class Base(DeclarativeBase):\n",
    "    pass"
   ]
  },
  {
   "cell_type": "code",
   "execution_count": 4,
   "metadata": {},
   "outputs": [
    {
     "data": {
      "text/plain": [
       "Engine(sqlite:///mortality.db)"
      ]
     },
     "execution_count": 4,
     "metadata": {},
     "output_type": "execute_result"
    }
   ],
   "source": [
    "engine"
   ]
  },
  {
   "cell_type": "code",
   "execution_count": 5,
   "metadata": {},
   "outputs": [],
   "source": [
    "from typing import List\n",
    "from typing import Optional\n",
    "from sqlalchemy.orm import Mapped\n",
    "from sqlalchemy.orm import mapped_column\n",
    "from sqlalchemy.orm import relationship"
   ]
  },
  {
   "cell_type": "code",
   "execution_count": null,
   "metadata": {},
   "outputs": [],
   "source": [
    "class Country(Base):\n",
    "    __tablename__ = \"countrys\"\n",
    "\n",
    "    id: Mapped[int] = mapped_column(primary_key=True)\n",
    "    name: Mapped[str] = mapped_column(String(255))\n",
    "    code: Mapped[str] = mapped_column(String(255))\n",
    "\n",
    "    def __repr__(self) -> str:\n",
    "        return f\"Country(id={self.id!r}, name={self.name!r}, code={self.code!r})\"\n",
    "    \n",
    "\n",
    "# groups now needs to be normalised\n",
    "class AgeGroup(Base):\n",
    "    __tablename__ = \"age_groups\"\n",
    "\n",
    "    id: Mapped[int] = mapped_column(primary_key=True)\n",
    "    age: Mapped[str] = mapped_column(String(255))\n",
    "\n",
    "    def __repr__(self):\n",
    "        return f\"\"\n",
    "    \n",
    "\n",
    "class Deaths(Base):\n",
    "    __tablename__ = \"deaths\"\n",
    "\n",
    "    id: Mapped[int] = mapped_column(primary_key=True)\n",
    "    country_id: Mapped[int] = mapped_column(ForeignKey(\"countrys.id\"))\n",
    "    year: Mapped[Date] = mapped_column(Date)\n",
    "    age_group_id: Mapped[str] = mapped_column(ForeignKey(\"age_groups.id\"))\n",
    "    sex: Mapped[str] = mapped_column(String(255))\n",
    "    number_of_deaths: Mapped[int] = mapped_column()\n",
    "    death_rate_per_100000: Mapped[int] = mapped_column()\n",
    "\n",
    "    def __repr__(self):\n",
    "        return f\"Deaths(id={self.id!r}, country_id={self.country_id!r}, year={self.year!r}, age_group={self.age_group!r}, sex={self.sex!r}, deaths_per_100k={self.deaths_per_100k!r})\"\n",
    "\n"
   ]
  },
  {
   "cell_type": "code",
   "execution_count": 7,
   "metadata": {},
   "outputs": [
    {
     "data": {
      "text/plain": [
       "MetaData()"
      ]
     },
     "execution_count": 7,
     "metadata": {},
     "output_type": "execute_result"
    }
   ],
   "source": [
    "Base.metadata"
   ]
  },
  {
   "cell_type": "code",
   "execution_count": 8,
   "metadata": {},
   "outputs": [
    {
     "data": {
      "text/plain": [
       "<sqlalchemy.orm.decl_api.registry at 0x1fb442e7f20>"
      ]
     },
     "execution_count": 8,
     "metadata": {},
     "output_type": "execute_result"
    }
   ],
   "source": [
    "Base.registry"
   ]
  },
  {
   "cell_type": "code",
   "execution_count": 9,
   "metadata": {},
   "outputs": [
    {
     "name": "stdout",
     "output_type": "stream",
     "text": [
      "2025-04-05 15:19:20,280 INFO sqlalchemy.engine.Engine BEGIN (implicit)\n",
      "2025-04-05 15:19:20,283 INFO sqlalchemy.engine.Engine PRAGMA main.table_info(\"countrys\")\n",
      "2025-04-05 15:19:20,285 INFO sqlalchemy.engine.Engine [raw sql] ()\n",
      "2025-04-05 15:19:20,288 INFO sqlalchemy.engine.Engine PRAGMA main.table_info(\"deaths\")\n",
      "2025-04-05 15:19:20,289 INFO sqlalchemy.engine.Engine [raw sql] ()\n",
      "2025-04-05 15:19:20,292 INFO sqlalchemy.engine.Engine COMMIT\n"
     ]
    }
   ],
   "source": [
    "Base.metadata.create_all(engine)"
   ]
  },
  {
   "cell_type": "code",
   "execution_count": 10,
   "metadata": {},
   "outputs": [
    {
     "name": "stdout",
     "output_type": "stream",
     "text": [
      "                     name code\n",
      "0             Afghanistan  AFG\n",
      "1                  Angola  AGO\n",
      "2                 Albania  ALB\n",
      "3                 Andorra  AND\n",
      "4    United Arab Emirates  ARE\n",
      "..                    ...  ...\n",
      "182                 Samoa  WSM\n",
      "183                 Yemen  YEM\n",
      "184          South Africa  ZAF\n",
      "185                Zambia  ZMB\n",
      "186              Zimbabwe  ZWE\n",
      "\n",
      "[187 rows x 2 columns]\n"
     ]
    }
   ],
   "source": [
    "import pandas as pd\n",
    "\n",
    "filename = \"IHME_GBD_2010_MORTALITY_AGE_SPECIFIC_BY_COUNTRY_1970_2010.csv\"\n",
    "\n",
    "df = pd.read_csv(filename).rename(columns={\n",
    "    \"Country Code\" : \"code\",\n",
    "    \"Country Name\" : \"name\",\n",
    "    \"Year\": \"year\",\n",
    "    \"Age Group\" : \"age_group\",\n",
    "    \"Sex\" : \"sex\",\n",
    "    \"Number of Deaths\" : \"number_of_deaths\",\n",
    "    \"Death Rate Per 100,000\" : \"death_rate_per_100000\"\n",
    "})\n",
    "\n",
    "countrys = pd.DataFrame(df[[\"name\", \"code\"]].drop_duplicates().reset_index(drop=True))\n",
    "\n",
    "\n"
   ]
  },
  {
   "cell_type": "code",
   "execution_count": 11,
   "metadata": {},
   "outputs": [],
   "source": [
    "# countrys.to_sql(name=\"countrys\", if_exists=\"append\", con=engine, index=True, index_label=\"id\")"
   ]
  },
  {
   "cell_type": "code",
   "execution_count": 12,
   "metadata": {},
   "outputs": [],
   "source": [
    "deaths = pd.DataFrame(df)"
   ]
  },
  {
   "cell_type": "code",
   "execution_count": 22,
   "metadata": {},
   "outputs": [
    {
     "name": "stdout",
     "output_type": "stream",
     "text": [
      "       age_group code\n",
      "0       0-6 days  AFG\n",
      "1       0-6 days  AFG\n",
      "2       0-6 days  AFG\n",
      "3      7-27 days  AFG\n",
      "4      7-27 days  AFG\n",
      "...          ...  ...\n",
      "58900  80+ years  ZWE\n",
      "58901  80+ years  ZWE\n",
      "58902   All ages  ZWE\n",
      "58903   All ages  ZWE\n",
      "58904   All ages  ZWE\n",
      "\n",
      "[58905 rows x 2 columns]\n"
     ]
    },
    {
     "data": {
      "text/html": [
       "<div>\n",
       "<style scoped>\n",
       "    .dataframe tbody tr th:only-of-type {\n",
       "        vertical-align: middle;\n",
       "    }\n",
       "\n",
       "    .dataframe tbody tr th {\n",
       "        vertical-align: top;\n",
       "    }\n",
       "\n",
       "    .dataframe thead th {\n",
       "        text-align: right;\n",
       "    }\n",
       "</style>\n",
       "<table border=\"1\" class=\"dataframe\">\n",
       "  <thead>\n",
       "    <tr style=\"text-align: right;\">\n",
       "      <th></th>\n",
       "      <th>year</th>\n",
       "      <th>age_group</th>\n",
       "      <th>sex</th>\n",
       "      <th>number_of_deaths</th>\n",
       "      <th>death_rate_per_100000</th>\n",
       "    </tr>\n",
       "  </thead>\n",
       "  <tbody>\n",
       "    <tr>\n",
       "      <th>0</th>\n",
       "      <td>1970</td>\n",
       "      <td>0-6 days</td>\n",
       "      <td>Male</td>\n",
       "      <td>19,241</td>\n",
       "      <td>318,292.90</td>\n",
       "    </tr>\n",
       "    <tr>\n",
       "      <th>1</th>\n",
       "      <td>1970</td>\n",
       "      <td>0-6 days</td>\n",
       "      <td>Female</td>\n",
       "      <td>12,600</td>\n",
       "      <td>219,544.20</td>\n",
       "    </tr>\n",
       "    <tr>\n",
       "      <th>2</th>\n",
       "      <td>1970</td>\n",
       "      <td>0-6 days</td>\n",
       "      <td>Both</td>\n",
       "      <td>31,840</td>\n",
       "      <td>270,200.70</td>\n",
       "    </tr>\n",
       "    <tr>\n",
       "      <th>3</th>\n",
       "      <td>1970</td>\n",
       "      <td>7-27 days</td>\n",
       "      <td>Male</td>\n",
       "      <td>15,939</td>\n",
       "      <td>92,701.00</td>\n",
       "    </tr>\n",
       "    <tr>\n",
       "      <th>4</th>\n",
       "      <td>1970</td>\n",
       "      <td>7-27 days</td>\n",
       "      <td>Female</td>\n",
       "      <td>11,287</td>\n",
       "      <td>68,594.50</td>\n",
       "    </tr>\n",
       "    <tr>\n",
       "      <th>...</th>\n",
       "      <td>...</td>\n",
       "      <td>...</td>\n",
       "      <td>...</td>\n",
       "      <td>...</td>\n",
       "      <td>...</td>\n",
       "    </tr>\n",
       "    <tr>\n",
       "      <th>58900</th>\n",
       "      <td>2010</td>\n",
       "      <td>80+ years</td>\n",
       "      <td>Female</td>\n",
       "      <td>7,606</td>\n",
       "      <td>16,179.40</td>\n",
       "    </tr>\n",
       "    <tr>\n",
       "      <th>58901</th>\n",
       "      <td>2010</td>\n",
       "      <td>80+ years</td>\n",
       "      <td>Both</td>\n",
       "      <td>13,305</td>\n",
       "      <td>16,633.80</td>\n",
       "    </tr>\n",
       "    <tr>\n",
       "      <th>58902</th>\n",
       "      <td>2010</td>\n",
       "      <td>All ages</td>\n",
       "      <td>Male</td>\n",
       "      <td>82,010</td>\n",
       "      <td>1,320.10</td>\n",
       "    </tr>\n",
       "    <tr>\n",
       "      <th>58903</th>\n",
       "      <td>2010</td>\n",
       "      <td>All ages</td>\n",
       "      <td>Female</td>\n",
       "      <td>77,420</td>\n",
       "      <td>1,211.20</td>\n",
       "    </tr>\n",
       "    <tr>\n",
       "      <th>58904</th>\n",
       "      <td>2010</td>\n",
       "      <td>All ages</td>\n",
       "      <td>Both</td>\n",
       "      <td>159,430</td>\n",
       "      <td>1,264.90</td>\n",
       "    </tr>\n",
       "  </tbody>\n",
       "</table>\n",
       "<p>58905 rows × 5 columns</p>\n",
       "</div>"
      ],
      "text/plain": [
       "       year  age_group     sex number_of_deaths death_rate_per_100000\n",
       "0      1970   0-6 days    Male           19,241            318,292.90\n",
       "1      1970   0-6 days  Female           12,600            219,544.20\n",
       "2      1970   0-6 days    Both           31,840            270,200.70\n",
       "3      1970  7-27 days    Male           15,939             92,701.00\n",
       "4      1970  7-27 days  Female           11,287             68,594.50\n",
       "...     ...        ...     ...              ...                   ...\n",
       "58900  2010  80+ years  Female            7,606             16,179.40\n",
       "58901  2010  80+ years    Both           13,305             16,633.80\n",
       "58902  2010   All ages    Male           82,010              1,320.10\n",
       "58903  2010   All ages  Female           77,420              1,211.20\n",
       "58904  2010   All ages    Both          159,430              1,264.90\n",
       "\n",
       "[58905 rows x 5 columns]"
      ]
     },
     "execution_count": 22,
     "metadata": {},
     "output_type": "execute_result"
    }
   ],
   "source": [
    "print(deaths[[\"age_group\", \"code\"]])\n",
    "deaths.drop(columns=[\"code\", \"name\"])\n",
    "deaths.combine"
   ]
  },
  {
   "cell_type": "code",
   "execution_count": 61,
   "metadata": {},
   "outputs": [
    {
     "name": "stdout",
     "output_type": "stream",
     "text": [
      "2025-04-05 17:40:33,331 INFO sqlalchemy.engine.Engine BEGIN (implicit)\n",
      "2025-04-05 17:40:33,333 INFO sqlalchemy.engine.Engine SELECT countrys.id, countrys.name, countrys.code \n",
      "FROM countrys\n",
      "2025-04-05 17:40:33,333 INFO sqlalchemy.engine.Engine [cached since 6528s ago] ()\n",
      "2025-04-05 17:40:33,343 INFO sqlalchemy.engine.Engine ROLLBACK\n",
      "       year  age_group     sex number_of_deaths death_rate_per_100000  \\\n",
      "0      1970   0-6 days    Male           19,241            318,292.90   \n",
      "1      1970   0-6 days  Female           12,600            219,544.20   \n",
      "2      1970   0-6 days    Both           31,840            270,200.70   \n",
      "3      1970  7-27 days    Male           15,939             92,701.00   \n",
      "4      1970  7-27 days  Female           11,287             68,594.50   \n",
      "...     ...        ...     ...              ...                   ...   \n",
      "58900  2010  80+ years  Female            7,606             16,179.40   \n",
      "58901  2010  80+ years    Both           13,305             16,633.80   \n",
      "58902  2010   All ages    Male           82,010              1,320.10   \n",
      "58903  2010   All ages  Female           77,420              1,211.20   \n",
      "58904  2010   All ages    Both          159,430              1,264.90   \n",
      "\n",
      "       country_id  \n",
      "0               0  \n",
      "1               0  \n",
      "2               0  \n",
      "3               0  \n",
      "4               0  \n",
      "...           ...  \n",
      "58900         186  \n",
      "58901         186  \n",
      "58902         186  \n",
      "58903         186  \n",
      "58904         186  \n",
      "\n",
      "[58905 rows x 6 columns]\n"
     ]
    }
   ],
   "source": [
    "from sqlalchemy.orm import Session\n",
    "\n",
    "# Insert deaths into deaths table. Code and name need to be replaced with country.id\n",
    "# For each row, the country needs to mapped to its id.\n",
    "\n",
    "# create dict(hashtable of counry names and ids)\n",
    "# want to return each result row as class\n",
    "\n",
    "countrys_dict = {}\n",
    "\n",
    "def hash(str: str):\n",
    "    return countrys_dict[str]\n",
    "\n",
    "with Session(engine) as session:\n",
    "    for country in session.scalars(select(Country)):\n",
    "        countrys_dict[country.name] = country.id\n",
    "\n",
    "deaths[\"country_id\"] = deaths[\"name\"].apply(lambda str: countrys_dict[str])\n",
    "deaths = deaths.drop(columns=[\"code\", \"name\"])\n"
   ]
  }
 ],
 "metadata": {
  "kernelspec": {
   "display_name": ".venv",
   "language": "python",
   "name": "python3"
  },
  "language_info": {
   "codemirror_mode": {
    "name": "ipython",
    "version": 3
   },
   "file_extension": ".py",
   "mimetype": "text/x-python",
   "name": "python",
   "nbconvert_exporter": "python",
   "pygments_lexer": "ipython3",
   "version": "3.12.1"
  }
 },
 "nbformat": 4,
 "nbformat_minor": 2
}
